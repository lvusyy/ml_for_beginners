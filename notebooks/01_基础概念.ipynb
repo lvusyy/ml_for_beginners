{
 "cells": [
  {
   "cell_type": "markdown",
   "id": "31a987c2",
   "metadata": {},
   "source": [
    "# 机器学习基础概念 🎯\n",
    "\n",
    "## 欢迎来到机器学习的世界！\n",
    "\n",
    "想象一下，如果你有一个机器人朋友，它可以通过观察和学习变得越来越聪明，这就是机器学习的魅力所在！\n",
    "\n",
    "在这个notebook中，我们将一起探索：\n",
    "- 什么是机器学习？\n",
    "- 机器学习能做什么？\n",
    "- 我们如何教计算机学习？\n",
    "\n",
    "准备好了吗？让我们开始吧！"
   ]
  },
  {
   "cell_type": "markdown",
   "id": "2d098740",
   "metadata": {},
   "source": [
    "## 1. 什么是机器学习？ 🤔\n",
    "\n",
    "### 生活中的例子\n",
    "想象你在学习骑自行车：\n",
    "- 第一次可能会摔倒\n",
    "- 通过不断练习，你学会了保持平衡\n",
    "- 最后，你可以轻松地骑自行车\n",
    "\n",
    "机器学习也是这样！计算机通过\"练习\"（处理大量数据）来学习完成特定任务。\n",
    "\n",
    "### 小测验\n",
    "1. 你觉得下面哪些是机器学习的例子？\n",
    "   - [ ] 计算器做加减乘除\n",
    "   - [x] 手机识别你的脸解锁\n",
    "   - [x] 天气预报预测明天是否下雨\n",
    "   - [ ] 电脑播放音乐\n",
    "\n",
    "2. 为什么计算器不是机器学习？\n",
    "   - 因为计算器只是按照固定规则计算，不会从经验中学习\n",
    "\n",
    "3. 你能想到哪些机器学习的例子？\n",
    "   - 比如：智能音箱、自动驾驶、推荐系统..."
   ]
  },
  {
   "cell_type": "code",
   "execution_count": null,
   "id": "68326649",
   "metadata": {},
   "outputs": [],
   "source": [
    "# 让我们先导入需要的工具\n",
    "import numpy as np\n",
    "import pandas as pd\n",
    "import matplotlib.pyplot as plt\n",
    "\n",
    "# 设置中文显示\n",
    "plt.rcParams['font.sans-serif'] = ['SimHei']\n",
    "plt.rcParams['axes.unicode_minus'] = False\n",
    "\n",
    "print(\"工具准备完毕！让我们开始吧！\")"
   ]
  },
  {
   "cell_type": "markdown",
   "id": "70a97784",
   "metadata": {},
   "source": [
    "## 2. 我们的第一个机器学习例子 🎮\n",
    "\n",
    "### 学习时间与成绩的关系\n",
    "假设我们收集了一些同学的学习时间和考试成绩数据，让我们看看它们之间有什么关系。"
   ]
  },
  {
   "cell_type": "code",
   "execution_count": null,
   "id": "4c64eb61",
   "metadata": {},
   "outputs": [],
   "source": [
    "# 创建数据集\n",
    "study_hours = np.array([2, 3, 4, 5, 6, 7, 8, 9, 10])\n",
    "scores = np.array([65, 70, 75, 80, 85, 90, 95, 100, 105])\n",
    "\n",
    "# 绘制散点图\n",
    "plt.figure(figsize=(10, 6))\n",
    "plt.scatter(study_hours, scores, color='blue', s=100)\n",
    "plt.title('学习时间与成绩的关系')\n",
    "plt.xlabel('学习时间（小时）')\n",
    "plt.ylabel('成绩')\n",
    "plt.grid(True)\n",
    "\n",
    "# 添加趋势线\n",
    "z = np.polyfit(study_hours, scores, 1)\n",
    "p = np.poly1d(z)\n",
    "plt.plot(study_hours, p(study_hours), \"r--\", alpha=0.8)\n",
    "\n",
    "plt.show()"
   ]
  },
  {
   "cell_type": "markdown",
   "id": "da6f8997",
   "metadata": {},
   "source": [
    "### 观察与思考\n",
    "1. 你发现了什么规律？\n",
    "   - 学习时间越长，成绩越高\n",
    "   - 这种关系看起来像一条直线\n",
    "\n",
    "2. 动手做一做\n",
    "   - 修改上面的数据，添加你自己的学习时间和成绩\n",
    "   - 观察图表会如何变化\n",
    "\n",
    "3. 你能想到其他类似的例子吗？\n",
    "   - 比如：运动时间与体能的关系\n",
    "   - 比如：练习时间与技能水平的关系"
   ]
  },
  {
   "cell_type": "markdown",
   "id": "939a1de8",
   "metadata": {},
   "source": [
    "## 3. 算法效率：为什么这很重要？ ⚡\n",
    "\n",
    "### 生活中的例子\n",
    "想象你在图书馆找一本书：\n",
    "- 方法1：从第一本书开始，一本一本地找（线性搜索）\n",
    "- 方法2：先看中间，再决定往左还是往右找（二分搜索）\n",
    "\n",
    "哪种方法更快？让我们来试试！"
   ]
  },
  {
   "cell_type": "code",
   "execution_count": null,
   "id": "e6b09d21",
   "metadata": {},
   "outputs": [],
   "source": [
    "import time\n",
    "\n",
    "def linear_search(numbers, target):\n",
    "    '线性搜索: 一本一本地找'\n",
    "    for i, num in enumerate(numbers):\n",
    "        if num == target:\n",
    "            return i\n",
    "    return -1\n",
    "\n",
    "def binary_search(numbers, target):\n",
    "    '二分搜索: 先看中间，再决定往左还是往右'\n",
    "    left, right = 0, len(numbers) - 1\n",
    "    while left <= right:\n",
    "        mid = (left + right) // 2\n",
    "        if numbers[mid] == target:\n",
    "            return mid\n",
    "        elif numbers[mid] < target:\n",
    "            left = mid + 1\n",
    "        else:\n",
    "            right = mid - 1\n",
    "    return -1\n",
    "\n",
    "# 创建一个有序的数字列表\n",
    "numbers = list(range(1000000))\n",
    "target = 999999\n",
    "\n",
    "# 测试两种方法的速度\n",
    "start_time = time.time()\n",
    "linear_search(numbers, target)\n",
    "linear_time = time.time() - start_time\n",
    "\n",
    "start_time = time.time()\n",
    "binary_search(numbers, target)\n",
    "binary_time = time.time() - start_time\n",
    "\n",
    "print(f'线性搜索用时: {linear_time:.4f}秒')\n",
    "print(f'二分搜索用时: {binary_time:.4f}秒')"
   ]
  },
  {
   "cell_type": "markdown",
   "id": "79491c15",
   "metadata": {},
   "source": [
    "### 思考题\n",
    "1. 为什么二分搜索比线性搜索快？\n",
    "   - 因为二分搜索每次都能排除一半的可能性\n",
    "   - 就像猜数字游戏，每次都能缩小一半的范围\n",
    "\n",
    "2. 生活中的例子\n",
    "   - 你能想到生活中其他类似的例子吗？\n",
    "   - 比如：查字典、找电话号码...\n",
    "\n",
    "3. 你能想到其他提高效率的方法吗？\n",
    "   - 比如：分类整理、索引查找..."
   ]
  },
  {
   "cell_type": "markdown",
   "id": "10b7c93b",
   "metadata": {},
   "source": [
    "## 4. 趣味练习 🎯\n",
    "\n",
    "### 练习1：预测成绩\n",
    "如果小明学习了7.5小时，你觉得他的成绩会是多少？\n",
    "- 观察上面的图表\n",
    "- 在趋势线上找到对应的点\n",
    "- 写下你的预测"
   ]
  },
  {
   "cell_type": "code",
   "execution_count": null,
   "id": "85a15db1",
   "metadata": {},
   "outputs": [],
   "source": [
    "# 计算预测成绩\n",
    "hours = 7.5\n",
    "predicted_score = p(hours)\n",
    "print(f'如果学习{hours}小时，预测成绩为: {predicted_score:.1f}分')"
   ]
  },
  {
   "cell_type": "markdown",
   "id": "295868e1",
   "metadata": {},
   "source": [
    "### 练习2：生活中的机器学习\n",
    "1. 观察你周围，找出3个机器学习的例子\n",
    "2. 思考：这些例子是如何\"学习\"的？\n",
    "3. 分享你的发现！\n",
    "\n",
    "### 练习3：算法效率\n",
    "1. 你能想到哪些提高效率的方法？\n",
    "2. 这些方法在生活中有什么应用？\n",
    "3. 分享你的想法！"
   ]
  },
  {
   "cell_type": "markdown",
   "id": "bd0aa53e",
   "metadata": {},
   "source": [
    "## 5. 知识总结 📝\n",
    "\n",
    "### 今天学到了什么？\n",
    "1. 机器学习是让计算机从数据中学习\n",
    "2. 通过观察数据，我们可以发现规律\n",
    "3. 不同的算法有不同的效率\n",
    "\n",
    "### 下节课预告\n",
    "下次我们将学习如何用图表展示数据，让数据变得更有趣！"
   ]
  },
  {
   "cell_type": "markdown",
   "id": "501acca9",
   "metadata": {},
   "source": [
    "## 6. 趣味问答 🤔\n",
    "\n",
    "1. 选择题\n",
    "   - 机器学习最像下面哪个过程？\n",
    "     a) 背乘法口诀表\n",
    "     b) 学习骑自行车\n",
    "     c) 使用计算器\n",
    "     d) 看天气预报\n",
    "\n",
    "2. 判断题\n",
    "   - 机器学习就是让计算机记住所有答案（对/错）\n",
    "   - 算法效率对机器学习很重要（对/错）\n",
    "\n",
    "3. 开放题\n",
    "   - 你能想到哪些可以用机器学习解决的问题？\n",
    "   - 为什么机器学习现在这么受欢迎？\n",
    "   - 你觉得机器学习会改变我们的生活吗？"
   ]
  }
 ],
 "metadata": {},
 "nbformat": 4,
 "nbformat_minor": 5
}
