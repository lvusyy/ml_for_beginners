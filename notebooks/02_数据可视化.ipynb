{
 "cells": [
  {
   "cell_type": "markdown",
   "id": "37a52c32",
   "metadata": {},
   "source": [
    "# 数据可视化 📊\n",
    "\n",
    "## 欢迎来到数据可视化的世界！\n",
    "\n",
    "想象一下，如果你能把枯燥的数字变成有趣的图画，是不是很神奇？这就是数据可视化的魅力！\n",
    "\n",
    "在这个notebook中，我们将一起探索：\n",
    "- 什么是数据可视化？\n",
    "- 为什么要可视化数据？\n",
    "- 如何用Python创建漂亮的图表？\n",
    "\n",
    "准备好了吗？让我们开始吧！"
   ]
  },
  {
   "cell_type": "markdown",
   "id": "0c0b1325",
   "metadata": {},
   "source": [
    "## 1. 什么是数据可视化？ 🤔\n",
    "\n",
    "### 生活中的例子\n",
    "想象你在看天气预报：\n",
    "- 温度曲线图\n",
    "- 降雨概率饼图\n",
    "- 风向玫瑰图\n",
    "\n",
    "这些都是数据可视化！它们帮助我们更好地理解数据。\n",
    "\n",
    "### 小测验\n",
    "1. 下面哪些是数据可视化？\n",
    "   - [x] 柱状图\n",
    "   - [x] 折线图\n",
    "   - [ ] 文字描述\n",
    "   - [x] 饼图\n",
    "\n",
    "2. 为什么需要数据可视化？\n",
    "   - 让数据更容易理解\n",
    "   - 发现数据中的规律\n",
    "   - 更好地展示结果\n",
    "\n",
    "3. 你能想到哪些数据可视化的例子？\n",
    "   - 比如：股票走势图、地图、统计图表..."
   ]
  },
  {
   "cell_type": "code",
   "execution_count": null,
   "id": "f741870b",
   "metadata": {},
   "outputs": [],
   "source": [
    "# 导入必要的库\n",
    "import numpy as np\n",
    "import pandas as pd\n",
    "import matplotlib.pyplot as plt\n",
    "import seaborn as sns\n",
    "\n",
    "# 设置中文显示\n",
    "plt.rcParams['font.sans-serif'] = ['SimHei']\n",
    "plt.rcParams['axes.unicode_minus'] = False\n",
    "\n",
    "print(\"工具准备完毕！让我们开始吧！\")"
   ]
  },
  {
   "cell_type": "markdown",
   "id": "cd348ae4",
   "metadata": {},
   "source": [
    "## 2. 折线图：展示趋势 📈\n",
    "\n",
    "### 生活中的例子\n",
    "- 温度变化\n",
    "- 股票价格\n",
    "- 学习成绩变化\n",
    "\n",
    "让我们用折线图展示一周的温度变化！"
   ]
  },
  {
   "cell_type": "code",
   "execution_count": null,
   "id": "6d50eea3",
   "metadata": {},
   "outputs": [],
   "source": [
    "# 创建一周的温度数据\n",
    "days = ['周一', '周二', '周三', '周四', '周五', '周六', '周日']\n",
    "temperatures = [20, 22, 25, 23, 21, 19, 18]\n",
    "\n",
    "# 绘制折线图\n",
    "plt.figure(figsize=(10, 6))\n",
    "plt.plot(days, temperatures, marker='o', color='red', linewidth=2)\n",
    "plt.title('一周温度变化')\n",
    "plt.xlabel('星期')\n",
    "plt.ylabel('温度 (°C)')\n",
    "plt.grid(True)\n",
    "\n",
    "# 添加数据标签\n",
    "for i, temp in enumerate(temperatures):\n",
    "    plt.text(i, temp, f'{temp}°C', ha='center', va='bottom')\n",
    "\n",
    "plt.show()"
   ]
  },
  {
   "cell_type": "markdown",
   "id": "672519d5",
   "metadata": {},
   "source": [
    "### 动手做一做\n",
    "1. 修改温度数据，看看图表如何变化\n",
    "2. 尝试改变图表的颜色和样式\n",
    "3. 添加最高温度和最低温度的标记\n",
    "\n",
    "### 思考题\n",
    "1. 折线图适合展示什么类型的数据？\n",
    "2. 你能想到其他可以用折线图展示的例子吗？"
   ]
  },
  {
   "cell_type": "markdown",
   "id": "8929dc66",
   "metadata": {},
   "source": [
    "## 3. 柱状图：比较数量 📊\n",
    "\n",
    "### 生活中的例子\n",
    "- 班级成绩分布\n",
    "- 不同水果的销量\n",
    "- 各科作业完成情况\n",
    "\n",
    "让我们用柱状图展示不同水果的销量！"
   ]
  },
  {
   "cell_type": "code",
   "execution_count": null,
   "id": "65006344",
   "metadata": {},
   "outputs": [],
   "source": [
    "# 创建水果销量数据\n",
    "fruits = ['苹果', '香蕉', '橙子', '草莓', '葡萄']\n",
    "sales = [150, 200, 180, 120, 160]\n",
    "\n",
    "# 绘制柱状图\n",
    "plt.figure(figsize=(10, 6))\n",
    "bars = plt.bar(fruits, sales, color=['red', 'yellow', 'orange', 'pink', 'purple'])\n",
    "\n",
    "# 添加标题和标签\n",
    "plt.title('水果销量统计')\n",
    "plt.xlabel('水果种类')\n",
    "plt.ylabel('销量（个）')\n",
    "\n",
    "# 在柱子上显示具体数值\n",
    "for bar in bars:\n",
    "    height = bar.get_height()\n",
    "    plt.text(bar.get_x() + bar.get_width()/2., height,\n",
    "             f'{int(height)}',\n",
    "             ha='center', va='bottom')\n",
    "\n",
    "plt.show()"
   ]
  },
  {
   "cell_type": "markdown",
   "id": "705a5cf5",
   "metadata": {},
   "source": [
    "### 动手做一做\n",
    "1. 修改水果种类和销量数据\n",
    "2. 尝试使用不同的颜色\n",
    "3. 添加图例说明\n",
    "\n",
    "### 思考题\n",
    "1. 柱状图和折线图有什么区别？\n",
    "2. 什么时候用柱状图更合适？"
   ]
  },
  {
   "cell_type": "markdown",
   "id": "553e4eea",
   "metadata": {},
   "source": [
    "## 4. 饼图：展示比例 🥧\n",
    "\n",
    "### 生活中的例子\n",
    "- 班级同学的兴趣爱好分布\n",
    "- 一天时间分配\n",
    "- 零花钱使用情况\n",
    "\n",
    "让我们用饼图展示一天的时间分配！"
   ]
  },
  {
   "cell_type": "code",
   "execution_count": null,
   "id": "9cbc8ee1",
   "metadata": {},
   "outputs": [],
   "source": [
    "# 创建时间分配数据\n",
    "activities = ['学习', '运动', '娱乐', '休息', '其他']\n",
    "time = [8, 2, 3, 8, 3]\n",
    "\n",
    "# 绘制饼图\n",
    "plt.figure(figsize=(10, 8))\n",
    "plt.pie(time, labels=activities, autopct='%1.1f%%',\n",
    "        colors=['lightblue', 'lightgreen', 'pink', 'lightyellow', 'lightgray'])\n",
    "plt.title('一天时间分配')\n",
    "\n",
    "# 添加图例\n",
    "plt.legend(activities, title=\"活动类型\",\n",
    "          loc=\"center left\",\n",
    "          bbox_to_anchor=(1, 0, 0.5, 1))\n",
    "\n",
    "plt.show()"
   ]
  },
  {
   "cell_type": "markdown",
   "id": "67954656",
   "metadata": {},
   "source": [
    "### 动手做一做\n",
    "1. 修改活动类型和时间分配\n",
    "2. 尝试使用不同的颜色\n",
    "3. 添加百分比标签\n",
    "\n",
    "### 思考题\n",
    "1. 饼图适合展示什么类型的数据？\n",
    "2. 你能想到其他可以用饼图展示的例子吗？"
   ]
  },
  {
   "cell_type": "markdown",
   "id": "19d84ab2",
   "metadata": {},
   "source": [
    "## 5. 散点图：展示关系 📉\n",
    "\n",
    "### 生活中的例子\n",
    "- 身高和体重的关系\n",
    "- 学习时间和成绩的关系\n",
    "- 温度和冰淇淋销量的关系\n",
    "\n",
    "让我们用散点图展示身高和体重的关系！"
   ]
  },
  {
   "cell_type": "code",
   "execution_count": null,
   "id": "e34a1cfa",
   "metadata": {},
   "outputs": [],
   "source": [
    "# 创建身高体重数据\n",
    "heights = [150, 155, 160, 165, 170, 175, 180, 185, 190]\n",
    "weights = [45, 50, 55, 60, 65, 70, 75, 80, 85]\n",
    "\n",
    "# 绘制散点图\n",
    "plt.figure(figsize=(10, 6))\n",
    "plt.scatter(heights, weights, color='blue', s=100)\n",
    "\n",
    "# 添加趋势线\n",
    "z = np.polyfit(heights, weights, 1)\n",
    "p = np.poly1d(z)\n",
    "plt.plot(heights, p(heights), \"r--\", alpha=0.8)\n",
    "\n",
    "# 添加标题和标签\n",
    "plt.title('身高体重关系图')\n",
    "plt.xlabel('身高（厘米）')\n",
    "plt.ylabel('体重（千克）')\n",
    "plt.grid(True)\n",
    "\n",
    "plt.show()"
   ]
  },
  {
   "cell_type": "markdown",
   "id": "7fc40161",
   "metadata": {},
   "source": [
    "### 动手做一做\n",
    "1. 修改身高体重数据\n",
    "2. 尝试使用不同的颜色和大小\n",
    "3. 添加数据标签\n",
    "\n",
    "### 思考题\n",
    "1. 散点图适合展示什么类型的数据？\n",
    "2. 你能想到其他可以用散点图展示的例子吗？"
   ]
  },
  {
   "cell_type": "markdown",
   "id": "216931a9",
   "metadata": {},
   "source": [
    "## 6. 趣味练习 🎯\n",
    "\n",
    "### 练习1：数据故事\n",
    "1. 选择一种图表类型\n",
    "2. 收集一些有趣的数据\n",
    "3. 用图表讲述一个故事\n",
    "\n",
    "### 练习2：图表设计\n",
    "1. 设计一个展示你一天活动的图表\n",
    "2. 使用不同的颜色和样式\n",
    "3. 添加有趣的标题和说明\n",
    "\n",
    "### 练习3：数据探索\n",
    "1. 收集班级同学的一些数据\n",
    "2. 用不同的图表展示这些数据\n",
    "3. 分享你的发现！"
   ]
  },
  {
   "cell_type": "markdown",
   "id": "6cd69794",
   "metadata": {},
   "source": [
    "## 7. 知识总结 📝\n",
    "\n",
    "### 今天学到了什么？\n",
    "1. 数据可视化的重要性\n",
    "2. 不同类型的图表及其用途\n",
    "3. 如何用Python创建图表\n",
    "\n",
    "### 下节课预告\n",
    "下次我们将学习如何用机器学习进行分类，让计算机学会识别不同的东西！"
   ]
  },
  {
   "cell_type": "markdown",
   "id": "892da530",
   "metadata": {},
   "source": [
    "## 8. 趣味问答 🤔\n",
    "\n",
    "1. 选择题\n",
    "   - 下面哪种图表最适合展示比例？\n",
    "     a) 折线图\n",
    "     b) 柱状图\n",
    "     c) 饼图\n",
    "     d) 散点图\n",
    "\n",
    "2. 判断题\n",
    "   - 数据可视化就是画图（对/错）\n",
    "   - 不同的数据适合用不同的图表展示（对/错）\n",
    "\n",
    "3. 开放题\n",
    "   - 你能想到哪些有趣的数据可视化例子？\n",
    "   - 为什么数据可视化很重要？\n",
    "   - 你觉得数据可视化会如何改变我们的生活？"
   ]
  }
 ],
 "metadata": {},
 "nbformat": 4,
 "nbformat_minor": 5
}
