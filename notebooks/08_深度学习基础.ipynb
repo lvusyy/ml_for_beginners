{
 "cells": [
  {
   "cell_type": "markdown",
   "id": "d1198cc0",
   "metadata": {},
   "source": [
    "# 深度学习基础 🧠\n",
    "\n",
    "## 欢迎来到深度学习的世界！\n",
    "\n",
    "想象一下，如果你能让计算机学会\"思考\"和\"学习\"，是不是很神奇？这就是深度学习的魅力！\n",
    "\n",
    "在这个notebook中，我们将一起探索：\n",
    "- 什么是深度学习？\n",
    "- 为什么要深度学习？\n",
    "- 如何用Python实现简单的深度学习？\n",
    "\n",
    "准备好了吗？让我们开始吧！"
   ]
  },
  {
   "cell_type": "markdown",
   "id": "60329b5d",
   "metadata": {},
   "source": [
    "## 1. 什么是深度学习？ 🤔\n",
    "\n",
    "### 生活中的例子\n",
    "想象你在：\n",
    "- 用手机识别人脸\n",
    "- 用语音助手听音乐\n",
    "- 用自动驾驶开车\n",
    "\n",
    "这就是深度学习！计算机也可以学会这种技能。\n",
    "\n",
    "### 小测验\n",
    "1. 下面哪些是深度学习的例子？\n",
    "   - [x] 人脸识别\n",
    "   - [x] 语音识别\n",
    "   - [ ] 计算1+1=2\n",
    "   - [x] 自动驾驶\n",
    "\n",
    "2. 为什么需要深度学习？\n",
    "   - 帮助我们解决复杂问题\n",
    "   - 让计算机学会\"思考\"和\"学习\"\n",
    "   - 提高工作效率\n",
    "\n",
    "3. 你能想到哪些深度学习的例子？\n",
    "   - 比如：人脸识别、语音识别、自动驾驶..."
   ]
  },
  {
   "cell_type": "code",
   "execution_count": null,
   "id": "b3de62b6",
   "metadata": {},
   "outputs": [],
   "source": [
    "# 导入必要的库\n",
    "import numpy as np\n",
    "import pandas as pd\n",
    "import matplotlib.pyplot as plt\n",
    "import seaborn as sns\n",
    "import tensorflow as tf\n",
    "from tensorflow.keras import layers, models\n",
    "\n",
    "# 设置中文显示\n",
    "plt.rcParams['font.sans-serif'] = ['SimHei']\n",
    "plt.rcParams['axes.unicode_minus'] = False\n",
    "\n",
    "print(\"工具准备完毕！让我们开始吧！\")"
   ]
  },
  {
   "cell_type": "markdown",
   "id": "706ded58",
   "metadata": {},
   "source": [
    "## 2. 神经网络：让计算机学会思考 🧠\n",
    "\n",
    "### 生活中的例子\n",
    "- 识别手写数字\n",
    "- 预测房价\n",
    "- 分类图片\n",
    "\n",
    "让我们用Python实现一个简单的神经网络！"
   ]
  },
  {
   "cell_type": "code",
   "execution_count": null,
   "id": "c21b73c2",
   "metadata": {},
   "outputs": [],
   "source": [
    "# 创建简单的神经网络\n",
    "model = models.Sequential([\n",
    "    layers.Dense(64, activation='relu', input_shape=(784,)),\n",
    "    layers.Dense(32, activation='relu'),\n",
    "    layers.Dense(10, activation='softmax')\n",
    "])\n",
    "\n",
    "# 编译模型\n",
    "model.compile(optimizer='adam',\n",
    "              loss='sparse_categorical_crossentropy',\n",
    "              metrics=['accuracy'])\n",
    "\n",
    "# 显示模型结构\n",
    "model.summary()\n",
    "\n",
    "# 可视化模型结构\n",
    "plt.figure(figsize=(10, 4))\n",
    "plt.plot(model.history.history['accuracy'] if hasattr(model.history, 'history') else [])\n",
    "plt.title('模型结构')\n",
    "plt.xlabel('层数')\n",
    "plt.ylabel('神经元数量')\n",
    "plt.show()"
   ]
  },
  {
   "cell_type": "markdown",
   "id": "55703818",
   "metadata": {},
   "source": [
    "### 动手做一做\n",
    "1. 修改网络结构，观察效果如何变化\n",
    "2. 尝试使用不同的激活函数\n",
    "3. 观察模型的性能\n",
    "\n",
    "### 思考题\n",
    "1. 为什么需要神经网络？\n",
    "2. 你能想到其他可以用神经网络解决的问题吗？"
   ]
  },
  {
   "cell_type": "markdown",
   "id": "88edf899",
   "metadata": {},
   "source": [
    "## 3. 卷积神经网络：让计算机学会看图片 👀\n",
    "\n",
    "### 生活中的例子\n",
    "- 识别猫和狗\n",
    "- 识别人脸\n",
    "- 识别交通标志\n",
    "\n",
    "让我们学习如何构建卷积神经网络！"
   ]
  },
  {
   "cell_type": "code",
   "execution_count": null,
   "id": "281762d3",
   "metadata": {},
   "outputs": [],
   "source": [
    "# 创建卷积神经网络\n",
    "cnn = models.Sequential([\n",
    "    layers.Conv2D(32, (3, 3), activation='relu', input_shape=(28, 28, 1)),\n",
    "    layers.MaxPooling2D((2, 2)),\n",
    "    layers.Conv2D(64, (3, 3), activation='relu'),\n",
    "    layers.MaxPooling2D((2, 2)),\n",
    "    layers.Conv2D(64, (3, 3), activation='relu'),\n",
    "    layers.Flatten(),\n",
    "    layers.Dense(64, activation='relu'),\n",
    "    layers.Dense(10, activation='softmax')\n",
    "])\n",
    "\n",
    "# 编译模型\n",
    "cnn.compile(optimizer='adam',\n",
    "            loss='sparse_categorical_crossentropy',\n",
    "            metrics=['accuracy'])\n",
    "\n",
    "# 显示模型结构\n",
    "cnn.summary()\n",
    "\n",
    "# 可视化模型结构\n",
    "plt.figure(figsize=(10, 4))\n",
    "plt.plot(cnn.history.history['accuracy'] if hasattr(cnn.history, 'history') else [])\n",
    "plt.title('卷积神经网络结构')\n",
    "plt.xlabel('层数')\n",
    "plt.ylabel('神经元数量')\n",
    "plt.show()"
   ]
  },
  {
   "cell_type": "markdown",
   "id": "f43d8816",
   "metadata": {},
   "source": [
    "### 动手做一做\n",
    "1. 修改卷积层参数，观察效果如何变化\n",
    "2. 尝试使用不同的池化方法\n",
    "3. 观察模型的性能\n",
    "\n",
    "### 思考题\n",
    "1. 为什么需要卷积神经网络？\n",
    "2. 你能想到其他可以用卷积神经网络解决的问题吗？"
   ]
  },
  {
   "cell_type": "markdown",
   "id": "6fd3877d",
   "metadata": {},
   "source": [
    "## 4. 模型训练：让计算机学会学习 📚\n",
    "\n",
    "### 生活中的例子\n",
    "- 学习新知识\n",
    "- 练习新技能\n",
    "- 提高能力\n",
    "\n",
    "让我们学习如何训练模型！"
   ]
  },
  {
   "cell_type": "code",
   "execution_count": null,
   "id": "6b0767b2",
   "metadata": {},
   "outputs": [],
   "source": [
    "# 加载MNIST数据集\n",
    "(train_images, train_labels), (test_images, test_labels) = tf.keras.datasets.mnist.load_data()\n",
    "\n",
    "# 预处理数据\n",
    "train_images = train_images.reshape((60000, 28, 28, 1)).astype('float32') / 255\n",
    "test_images = test_images.reshape((10000, 28, 28, 1)).astype('float32') / 255\n",
    "\n",
    "# 训练模型\n",
    "history = cnn.fit(train_images, train_labels, epochs=5, batch_size=64,\n",
    "                 validation_data=(test_images, test_labels))\n",
    "\n",
    "# 可视化训练过程\n",
    "plt.figure(figsize=(10, 4))\n",
    "plt.plot(history.history['accuracy'], label='训练准确率')\n",
    "plt.plot(history.history['val_accuracy'], label='验证准确率')\n",
    "plt.title('模型训练过程')\n",
    "plt.xlabel('轮数')\n",
    "plt.ylabel('准确率')\n",
    "plt.legend()\n",
    "plt.show()"
   ]
  },
  {
   "cell_type": "markdown",
   "id": "cf2750c7",
   "metadata": {},
   "source": [
    "### 动手做一做\n",
    "1. 修改训练参数，观察效果如何变化\n",
    "2. 尝试使用不同的优化器\n",
    "3. 观察训练过程\n",
    "\n",
    "### 思考题\n",
    "1. 为什么需要训练模型？\n",
    "2. 你能想到其他训练模型的方法吗？"
   ]
  },
  {
   "cell_type": "markdown",
   "id": "b3165fd6",
   "metadata": {},
   "source": [
    "## 5. 趣味练习 🎯\n",
    "\n",
    "### 练习1：手写数字识别\n",
    "1. 收集手写数字图像\n",
    "2. 设计一个神经网络\n",
    "3. 训练和测试模型\n",
    "\n",
    "### 练习2：图像分类\n",
    "1. 收集图像数据\n",
    "2. 设计一个卷积神经网络\n",
    "3. 训练和测试模型\n",
    "\n",
    "### 练习3：模型优化\n",
    "1. 收集训练数据\n",
    "2. 设计一个优化方案\n",
    "3. 提高模型性能"
   ]
  },
  {
   "cell_type": "markdown",
   "id": "d144d371",
   "metadata": {},
   "source": [
    "## 6. 知识总结 📝\n",
    "\n",
    "### 今天学到了什么？\n",
    "1. 深度学习的基本概念\n",
    "2. 不同的深度学习算法\n",
    "3. 如何用Python实现深度学习\n",
    "\n",
    "### 下节课预告\n",
    "恭喜你完成了所有课程！你已经学会了机器学习的各种技能！"
   ]
  },
  {
   "cell_type": "markdown",
   "id": "58f9a667",
   "metadata": {},
   "source": [
    "## 7. 趣味问答 🤔\n",
    "\n",
    "1. 选择题\n",
    "   - 下面哪个不是深度学习的例子？\n",
    "     a) 人脸识别\n",
    "     b) 计算1+1=2\n",
    "     c) 语音识别\n",
    "     d) 自动驾驶\n",
    "\n",
    "2. 判断题\n",
    "   - 深度学习就是让计算机\"思考\"和\"学习\"（对/错）\n",
    "   - 神经网络对深度学习很重要（对/错）\n",
    "\n",
    "3. 开放题\n",
    "   - 你能想到哪些有趣的深度学习问题？\n",
    "   - 为什么深度学习很重要？\n",
    "   - 你觉得深度学习会如何改变我们的生活？"
   ]
  }
 ],
 "metadata": {},
 "nbformat": 4,
 "nbformat_minor": 5
}
