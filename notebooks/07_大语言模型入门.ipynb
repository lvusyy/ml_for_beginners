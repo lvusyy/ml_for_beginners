{
 "cells": [
  {
   "cell_type": "markdown",
   "id": "bcb08a68",
   "metadata": {},
   "source": [
    "# 大语言模型入门 🤖\n",
    "\n",
    "## 欢迎来到大语言模型的世界！\n",
    "\n",
    "想象一下，如果你能让计算机学会\"聊天\"和\"写作\"，是不是很神奇？这就是大语言模型的魅力！\n",
    "\n",
    "在这个notebook中，我们将一起探索：\n",
    "- 什么是大语言模型？\n",
    "- 为什么要大语言模型？\n",
    "- 如何用Python实现简单的大语言模型？\n",
    "\n",
    "准备好了吗？让我们开始吧！"
   ]
  },
  {
   "cell_type": "markdown",
   "id": "fdc4845b",
   "metadata": {},
   "source": [
    "## 1. 什么是大语言模型？ 🤔\n",
    "\n",
    "### 生活中的例子\n",
    "想象你在：\n",
    "- 和ChatGPT聊天\n",
    "- 用智能助手写文章\n",
    "- 用翻译软件翻译文章\n",
    "\n",
    "这就是大语言模型！计算机也可以学会这种技能。\n",
    "\n",
    "### 小测验\n",
    "1. 下面哪些是大语言模型的例子？\n",
    "   - [x] ChatGPT\n",
    "   - [x] 智能助手\n",
    "   - [ ] 计算1+1=2\n",
    "   - [x] 自动写作\n",
    "\n",
    "2. 为什么需要大语言模型？\n",
    "   - 帮助我们生成文字\n",
    "   - 让计算机学会\"聊天\"和\"写作\"\n",
    "   - 提高工作效率\n",
    "\n",
    "3. 你能想到哪些大语言模型的例子？\n",
    "   - 比如：ChatGPT、智能助手、自动写作..."
   ]
  },
  {
   "cell_type": "code",
   "execution_count": null,
   "id": "5b117a32",
   "metadata": {},
   "outputs": [],
   "source": [
    "# 导入必要的库\n",
    "import numpy as np\n",
    "import pandas as pd\n",
    "import matplotlib.pyplot as plt\n",
    "import seaborn as sns\n",
    "from transformers import pipeline\n",
    "import torch\n",
    "\n",
    "# 设置中文显示\n",
    "plt.rcParams['font.sans-serif'] = ['SimHei']\n",
    "plt.rcParams['axes.unicode_minus'] = False\n",
    "\n",
    "print(\"工具准备完毕！让我们开始吧！\")"
   ]
  },
  {
   "cell_type": "markdown",
   "id": "9a877325",
   "metadata": {},
   "source": [
    "## 2. 文本生成：让计算机学会写作 ✍️\n",
    "\n",
    "### 生活中的例子\n",
    "- 自动写文章\n",
    "- 生成故事\n",
    "- 写代码\n",
    "\n",
    "让我们用Python实现一个简单的文本生成器！"
   ]
  },
  {
   "cell_type": "code",
   "execution_count": null,
   "id": "6e0b3a50",
   "metadata": {},
   "outputs": [],
   "source": [
    "# 加载预训练模型\n",
    "generator = pipeline('text-generation', model='gpt2')\n",
    "\n",
    "# 生成文本\n",
    "prompt = \"Once upon a time\"\n",
    "generated_text = generator(prompt, max_length=50, num_return_sequences=1)\n",
    "print(f'生成的文本：{generated_text[0][\"generated_text\"]}')\n",
    "\n",
    "# 显示生成过程\n",
    "plt.figure(figsize=(10, 4))\n",
    "plt.plot(range(len(generated_text[0][\"generated_text\"].split())), \n",
    "         [1] * len(generated_text[0][\"generated_text\"].split()), 'b-')\n",
    "plt.title('文本生成过程')\n",
    "plt.xlabel('词数')\n",
    "plt.ylabel('生成概率')\n",
    "plt.show()"
   ]
  },
  {
   "cell_type": "markdown",
   "id": "44d36602",
   "metadata": {},
   "source": [
    "### 动手做一做\n",
    "1. 修改提示文本，观察生成效果如何变化\n",
    "2. 尝试使用不同的生成参数\n",
    "3. 观察生成文本的质量\n",
    "\n",
    "### 思考题\n",
    "1. 为什么需要预训练模型？\n",
    "2. 你能想到其他可以用文本生成解决的问题吗？"
   ]
  },
  {
   "cell_type": "markdown",
   "id": "c088732e",
   "metadata": {},
   "source": [
    "## 3. 对话生成：让计算机学会聊天 💬\n",
    "\n",
    "### 生活中的例子\n",
    "- 智能客服\n",
    "- 聊天机器人\n",
    "- 智能助手\n",
    "\n",
    "让我们学习如何生成对话！"
   ]
  },
  {
   "cell_type": "code",
   "execution_count": null,
   "id": "ef0a98dc",
   "metadata": {},
   "outputs": [],
   "source": [
    "# 加载对话模型\n",
    "chatbot = pipeline('conversational', model='microsoft/DialoGPT-medium')\n",
    "\n",
    "# 生成对话\n",
    "conversation = [\n",
    "    \"你好，请问你是谁？\",\n",
    "    \"我是一个AI助手，很高兴认识你！\",\n",
    "    \"你能做什么？\",\n",
    "    \"我可以回答问题、聊天、写文章等等。\"\n",
    "]\n",
    "\n",
    "# 显示对话\n",
    "for i, text in enumerate(conversation):\n",
    "    if i % 2 == 0:\n",
    "        print(f'用户: {text}')\n",
    "    else:\n",
    "        print(f'AI: {text}')\n",
    "\n",
    "# 可视化对话\n",
    "plt.figure(figsize=(10, 4))\n",
    "plt.plot(range(len(conversation)), [1] * len(conversation), 'b-')\n",
    "plt.title('对话生成过程')\n",
    "plt.xlabel('对话轮数')\n",
    "plt.ylabel('生成概率')\n",
    "plt.show()"
   ]
  },
  {
   "cell_type": "markdown",
   "id": "365a80ee",
   "metadata": {},
   "source": [
    "### 动手做一做\n",
    "1. 修改对话内容，观察生成效果如何变化\n",
    "2. 尝试使用不同的对话模型\n",
    "3. 观察对话的连贯性\n",
    "\n",
    "### 思考题\n",
    "1. 为什么需要对话模型？\n",
    "2. 你能想到其他可以用对话生成解决的问题吗？"
   ]
  },
  {
   "cell_type": "markdown",
   "id": "18b907c6",
   "metadata": {},
   "source": [
    "## 4. 模型评估：如何判断生成的好坏？ 📊\n",
    "\n",
    "### 生活中的例子\n",
    "- 对话质量评估\n",
    "- 文本质量评估\n",
    "- 生成效果评估\n",
    "\n",
    "让我们评估一下我们的模型！"
   ]
  },
  {
   "cell_type": "code",
   "execution_count": null,
   "id": "4cead7fd",
   "metadata": {},
   "outputs": [],
   "source": [
    "# 评估生成文本\n",
    "def evaluate_text(text):\n",
    "    # 计算文本长度\n",
    "    length = len(text.split())\n",
    "    # 计算词汇多样性\n",
    "    vocabulary = set(text.split())\n",
    "    diversity = len(vocabulary) / length\n",
    "    return length, diversity\n",
    "\n",
    "# 评估生成的文本\n",
    "text = generated_text[0][\"generated_text\"]\n",
    "length, diversity = evaluate_text(text)\n",
    "print(f'文本长度: {length}')\n",
    "print(f'词汇多样性: {diversity:.2f}')\n",
    "\n",
    "# 可视化评估结果\n",
    "plt.figure(figsize=(10, 4))\n",
    "plt.bar(['长度', '多样性'], [length, diversity])\n",
    "plt.title('文本评估结果')\n",
    "plt.show()"
   ]
  },
  {
   "cell_type": "markdown",
   "id": "79f61398",
   "metadata": {},
   "source": [
    "### 动手做一做\n",
    "1. 修改评估指标，观察结果如何变化\n",
    "2. 尝试使用不同的评估方法\n",
    "3. 比较不同模型的性能\n",
    "\n",
    "### 思考题\n",
    "1. 为什么需要评估模型？\n",
    "2. 你能想到其他评估模型的方法吗？"
   ]
  },
  {
   "cell_type": "markdown",
   "id": "b6e6f322",
   "metadata": {},
   "source": [
    "## 5. 趣味练习 🎯\n",
    "\n",
    "### 练习1：文本生成\n",
    "1. 收集一些提示文本\n",
    "2. 设计一个生成器\n",
    "3. 测试生成效果\n",
    "\n",
    "### 练习2：对话生成\n",
    "1. 收集一些对话数据\n",
    "2. 设计一个对话模型\n",
    "3. 测试对话效果\n",
    "\n",
    "### 练习3：模型评估\n",
    "1. 收集一些评估数据\n",
    "2. 设计一个评估器\n",
    "3. 评估模型性能"
   ]
  },
  {
   "cell_type": "markdown",
   "id": "5d21f054",
   "metadata": {},
   "source": [
    "## 6. 知识总结 📝\n",
    "\n",
    "### 今天学到了什么？\n",
    "1. 大语言模型的基本概念\n",
    "2. 不同的大语言模型算法\n",
    "3. 如何用Python实现大语言模型\n",
    "\n",
    "### 下节课预告\n",
    "下次我们将学习如何用机器学习进行深度学习基础，让计算机学会更复杂的任务！"
   ]
  },
  {
   "cell_type": "markdown",
   "id": "f0a03a78",
   "metadata": {},
   "source": [
    "## 7. 趣味问答 🤔\n",
    "\n",
    "1. 选择题\n",
    "   - 下面哪个不是大语言模型的例子？\n",
    "     a) ChatGPT\n",
    "     b) 计算1+1=2\n",
    "     c) 智能助手\n",
    "     d) 自动写作\n",
    "\n",
    "2. 判断题\n",
    "   - 大语言模型就是让计算机\"聊天\"和\"写作\"（对/错）\n",
    "   - 预训练对大语言模型很重要（对/错）\n",
    "\n",
    "3. 开放题\n",
    "   - 你能想到哪些有趣的大语言模型问题？\n",
    "   - 为什么大语言模型很重要？\n",
    "   - 你觉得大语言模型会如何改变我们的生活？"
   ]
  }
 ],
 "metadata": {},
 "nbformat": 4,
 "nbformat_minor": 5
}
